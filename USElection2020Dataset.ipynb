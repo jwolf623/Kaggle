{
 "cells": [
  {
   "cell_type": "code",
   "execution_count": 5,
   "id": "9991ae2c",
   "metadata": {},
   "outputs": [
    {
     "name": "stdout",
     "output_type": "stream",
     "text": [
      "Missing values per column:\n",
      " Series([], dtype: int64)\n"
     ]
    }
   ],
   "source": [
    "import pandas as pd\n",
    "\n",
    "# Load data\n",
    "data = pd.read_csv('/Users/jordanwolfson/Desktop/US_Election_dataset_v1.csv')\n",
    "\n",
    "# Drop unnecessary columns\n",
    "data.drop(columns=['Unnamed: 0'], inplace=True)\n",
    "\n",
    "# Remove percentage signs and commas, and convert to numeric\n",
    "for col in data.columns:\n",
    "    if data[col].dtype == 'object':  # Only apply to object columns\n",
    "        if data[col].str.contains('%').any():\n",
    "            data[col] = data[col].str.replace('%', '').astype(float)\n",
    "        \n",
    "            \n",
    "\n",
    "# Check for missing values and decide how to handle them\n",
    "missing_values = data.isnull().sum()\n",
    "print(\"Missing values per column:\\n\", missing_values[missing_values > 0])\n",
    "\n",
    "# Encode categorical columns (like 'state') if needed\n",
    "# data = pd.get_dummies(data, columns=['state'], drop_first=True)"
   ]
  },
  {
   "cell_type": "code",
   "execution_count": 8,
   "id": "fee519c9",
   "metadata": {},
   "outputs": [],
   "source": [
    "# Fill missing values for numeric columns with the mean\n",
    "numeric_cols = data.select_dtypes(include=['float64', 'int64']).columns\n",
    "data[numeric_cols] = data[numeric_cols].fillna(data[numeric_cols].mean())\n",
    "\n",
    "# Fill missing values for categorical columns with the mode\n",
    "categorical_cols = data.select_dtypes(include=['object']).columns\n",
    "data[categorical_cols] = data[categorical_cols].fillna(data[categorical_cols].mode().iloc[0])"
   ]
  },
  {
   "cell_type": "code",
   "execution_count": null,
   "id": "78c287c2",
   "metadata": {},
   "outputs": [],
   "source": []
  }
 ],
 "metadata": {
  "kernelspec": {
   "display_name": "Python 3 (ipykernel)",
   "language": "python",
   "name": "python3"
  },
  "language_info": {
   "codemirror_mode": {
    "name": "ipython",
    "version": 3
   },
   "file_extension": ".py",
   "mimetype": "text/x-python",
   "name": "python",
   "nbconvert_exporter": "python",
   "pygments_lexer": "ipython3",
   "version": "3.10.10"
  }
 },
 "nbformat": 4,
 "nbformat_minor": 5
}
